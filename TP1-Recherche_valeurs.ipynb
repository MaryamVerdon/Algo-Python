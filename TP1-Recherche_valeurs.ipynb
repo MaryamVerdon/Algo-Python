{
 "cells": [
  {
   "cell_type": "markdown",
   "metadata": {
    "deletable": false,
    "editable": false
   },
   "source": [
    "<b><p style=\"text-align:center; font-family:verdana; font-size:220%;\">M1103 - Structures de données en Python</p></b><img src=\"https://iut-info.univ-reims.fr/users/vautrot/restricted/Images/python-and-jupyter.png\" alt=\"\" width=\"300\" align=\"center\"><br>\n",
    "<b><p style=\"text-align:center; font-family:verdana; font-size:220%;\">TP 1 Recherche de valeurs dans une liste</p></b>"
   ]
  },
  {
   "cell_type": "markdown",
   "metadata": {},
   "source": [
    "_Indiquez ici vos nom(s) et prénom(s) :_  "
   ]
  },
  {
   "cell_type": "markdown",
   "metadata": {
    "deletable": false,
    "editable": false
   },
   "source": [
    "Comme vous allez réutiliser des fonctions écrites dans cette page, pensez, à chaque chargement de cette page, à exécuter toutes les cellules à travers le menu `Cell` &rightarrow; `Run All`. Des erreurs apparaîtront sur les exercices non faits, c'est normal...\n",
    "\n",
    "Cellule des importations à effectuer une fois avant d'exécuter les cellules de code du TP si vous n'avez pas exécuté toutes les cellules :"
   ]
  },
  {
   "cell_type": "code",
   "execution_count": 186,
   "metadata": {
    "deletable": false,
    "editable": false
   },
   "outputs": [],
   "source": [
    "## EXECUTE ME FIRST! ##\n",
    "from random import *"
   ]
  },
  {
   "cell_type": "markdown",
   "metadata": {
    "deletable": false,
    "editable": false
   },
   "source": [
    "# Plan\n",
    "* [1. Recherche dans une liste non triée](#1.-Recherche-dans-une-liste-non-triée)\n",
    "    * [1.1 Révision rapide sur la manipulation des listes](#1.1-Révision-rapide-sur-la-manipulation-des-listes)\n",
    "        * [1.1.1 Générer une liste aléatoire d'entiers](#1.1.1-Générer-une-liste-aléatoire-d'entiers)\n",
    "        * [1.1.2 Compter le nombre d'occurrences d'un élément dans une liste](#1.1.2-Compter-le-nombre-d'occurrences-d'un-élément-dans-une-liste)\n",
    "    * [1.2 Recherche d'éléments dans une liste non triée](#1.2-Recherche-d'éléments-dans-une-liste-non-triée)\n",
    "        * [1.2.1 Déterminer si une liste contient un élément](#1.2.1-Déterminer-si-une-liste-contient-un-élément)\n",
    "        * [1.2.2 Déterminer la position de la première occurrence d'un élément dans une liste](#1.2.2-Déterminer-la-position-de-la-première-occurrence-d'un-élément-dans-une-liste)\n",
    "        * [1.2.3 Déterminer la position de la dernière occurrence d'un élément dans une liste](#1.2.3-Déterminer-la-position-de-la-dernière-occurrence-d'un-élément-dans-une-liste)\n",
    "* [2. Compléments](#2.-Compléments)\n",
    "    * [2.1 Recherche de la n<sup>ième</sup> position d'un élément dans une liste](#2.1-Recherche-de-la-nième-position-d'un-élément-dans-une-liste)\n",
    "    * [2.2 Générer une liste sans doublon](#2.2-Générer-une-liste-sans-doublon)\n",
    "    * [2.3 Supprimer les doublons d'une liste](#2.3-Supprimer-les-doublons-d'une-liste)\n",
    "    * [2.4 &Eacute;numération du contenu d'une liste](#2.4-&Eacute;numération-du-contenu-d'une-liste)"
   ]
  },
  {
   "cell_type": "markdown",
   "metadata": {
    "deletable": false,
    "editable": false
   },
   "source": [
    "# 1. Recherche dans une liste non triée"
   ]
  },
  {
   "cell_type": "markdown",
   "metadata": {
    "deletable": false,
    "editable": false
   },
   "source": [
    "## 1.1 Révision rapide sur la manipulation des listes"
   ]
  },
  {
   "cell_type": "markdown",
   "metadata": {
    "deletable": false,
    "editable": false
   },
   "source": [
    "### 1.1.1 Générer une liste aléatoire d'entiers"
   ]
  },
  {
   "cell_type": "markdown",
   "metadata": {
    "deletable": false,
    "editable": false
   },
   "source": [
    "Comme on va faire des recherches dans des listes, la première étape est de créer une liste.\n",
    "\n",
    "(**Révision**) &Eacute;crire une fonction qu'on appellera **`getRandomList`** qui crée une liste de nombres aléatoires. Cette fonction reçoit en paramètre le nombre d'éléments `taille` à insérer dans la liste, la valeur minimale (incluse) `mn` et la valeur maximale (incluse) `mx` pour le tirage aléatoire des nombres de la liste.\n",
    "La fonction retourne la liste créée."
   ]
  },
  {
   "cell_type": "code",
   "execution_count": 187,
   "metadata": {},
   "outputs": [],
   "source": [
    "# Tapez votre code ici\n",
    "def getRandomList(taille, mn, mx) :\n",
    "    list = []\n",
    "    for i in range(taille) :\n",
    "        list.append(randint(mn, mx))\n",
    "    return list"
   ]
  },
  {
   "cell_type": "code",
   "execution_count": 188,
   "metadata": {},
   "outputs": [
    {
     "name": "stdout",
     "output_type": "stream",
     "text": [
      "[-9, 4, -8, -6, 6, -4, -9, 7, -14, -11]\n",
      "[3, 6, 20, -16, -15, -12, -13, 2, -5, -10]\n",
      "[4, 6, -8, 2, -6, 6, -20, -5, 1, -11]\n",
      "[-19, -6, -7, -16, -17, 9, -13, -16, 0, 17]\n",
      "[-15, -4, 0, -6, -10, -9, -12, -14, 9, -12]\n"
     ]
    }
   ],
   "source": [
    "# Tester votre fonction\n",
    "# Devrait afficher 5 listes de 10 éléments chacune, compris entre -20 et 20 inclus\n",
    "for i in range(5):\n",
    "    print(getRandomList(taille=10,mn=-20,mx=20))"
   ]
  },
  {
   "cell_type": "markdown",
   "metadata": {
    "deletable": false,
    "editable": false
   },
   "source": [
    "### 1.1.2 Compter le nombre d'occurrences d'un élément dans une liste"
   ]
  },
  {
   "cell_type": "markdown",
   "metadata": {
    "deletable": false,
    "editable": false
   },
   "source": [
    "&Eacute;crire une méthode **`compter`** qui reçoit en paramètre une liste qu'on appellera `lst` et un élément de type entier qu'on appellera `elmt`. Cette méthode compte le nombre d'apparitions de l'entier `elmt` dans la liste et retourne ce nombre. Bien-sûr, on n'utilisera pas la méthode `count` de la liste !..."
   ]
  },
  {
   "cell_type": "code",
   "execution_count": 189,
   "metadata": {},
   "outputs": [],
   "source": [
    "# Tapez votre code ici\n",
    "def compter(lst, elmt) :\n",
    "    counter = 0\n",
    "    for number in lst :\n",
    "        if (number == elmt) :\n",
    "            counter+=1\n",
    "    return counter"
   ]
  },
  {
   "cell_type": "markdown",
   "metadata": {
    "deletable": false,
    "editable": false
   },
   "source": [
    "Utilisez la cellule ci-dessous pour tester votre code."
   ]
  },
  {
   "cell_type": "code",
   "execution_count": 190,
   "metadata": {},
   "outputs": [
    {
     "name": "stdout",
     "output_type": "stream",
     "text": [
      "[13, -15, 18, 1, -5, -5, 14, -15, -14, -12]\n",
      "0\n",
      "[-13, -13, -6, -11, -1, 14, -9, 10, 7, 4]\n",
      "0\n",
      "[-12, -8, 4, -3, 17, 4, -8, 3, 2, -13]\n",
      "1\n",
      "[16, 12, 17, 14, 15, 3, -16, -9, -15, 18]\n",
      "1\n",
      "[-7, 17, 5, -12, 19, -5, 12, 19, 20, -8]\n",
      "0\n"
     ]
    }
   ],
   "source": [
    "# Tapez vos tests ici\n",
    "for i in range(5):\n",
    "    lst = getRandomList(taille=10,mn=-20,mx=20)\n",
    "    print(lst)\n",
    "    print(compter(lst, i))"
   ]
  },
  {
   "cell_type": "markdown",
   "metadata": {
    "deletable": false,
    "editable": false
   },
   "source": [
    "Pour tester de façon plus _intensive_ votre méthode, exécutez le code ci-dessous.\n",
    "\n",
    "Si tout se passe bien, il devrait afficher :\n",
    "> `Tout est OK.`.\n",
    "\n",
    "Sinon, il affichera un message du style : \n",
    "\n",
    "```\n",
    "---------------------------------------------------------------------------\n",
    "AssertionError                            Traceback (most recent call last)\n",
    "<ipython-input-19-2842a22db1ae> in <module>()\n",
    "      5         v = randint(-100,100)\n",
    "      6         n = compter(lst=lst, elmt=v)\n",
    "----> 7         assert n==(lst.count(v)), f\"{lst} devrait contenir {lst.count(v)} {v} au lieu de {n}...?\"\n",
    "      8 print(\"Tout est OK.\")\n",
    "\n",
    "AssertionError: [-19, 46, 59, -28, 27, 99, -40, -50, -77] devrait contenir 0 -9 au lieu de 10...?\n",
    "```\n"
   ]
  },
  {
   "cell_type": "code",
   "execution_count": 191,
   "metadata": {},
   "outputs": [
    {
     "name": "stdout",
     "output_type": "stream",
     "text": [
      "Tout est OK.\n"
     ]
    }
   ],
   "source": [
    "# Test de la méthode compte\n",
    "for i in range(1000):\n",
    "    lst = getRandomList(randint(0,10), -100, 100)\n",
    "    for j in range(100):\n",
    "        v = randint(-100,100)\n",
    "        n = compter(lst=lst, elmt=v)\n",
    "        assert n==(lst.count(v)), f\"{lst} devrait contenir {lst.count(v)} {v} au lieu de {n}...?\"\n",
    "print(\"Tout est OK.\")\n"
   ]
  },
  {
   "cell_type": "markdown",
   "metadata": {
    "deletable": false,
    "editable": false
   },
   "source": [
    "## 1.2 Recherche d'éléments dans une liste non triée"
   ]
  },
  {
   "cell_type": "markdown",
   "metadata": {
    "deletable": false,
    "editable": false
   },
   "source": [
    "### 1.2.1 Déterminer si une liste contient un élément"
   ]
  },
  {
   "cell_type": "markdown",
   "metadata": {
    "deletable": false,
    "editable": false
   },
   "source": [
    "&Eacute;crire une méthode **`contient`** qui reçoit une liste `lst` et un entier `elmt` en paramètre et qui\n",
    "retourne `True` si la liste contient l'entier `elmt`, `False` sinon. Bien-sûr, vous n'utiliserez pas \n",
    "le mot clé `in` !"
   ]
  },
  {
   "cell_type": "code",
   "execution_count": 192,
   "metadata": {},
   "outputs": [],
   "source": [
    "# Taper votre code ici\n",
    "def contient(lst, elmt) :\n",
    "    if compter(lst, elmt) != 0 :\n",
    "        return True\n",
    "    else : \n",
    "        return False"
   ]
  },
  {
   "cell_type": "markdown",
   "metadata": {
    "deletable": false,
    "editable": false
   },
   "source": [
    "Utilisez la ligne ci-dessous pour tester votre méthode :"
   ]
  },
  {
   "cell_type": "code",
   "execution_count": 193,
   "metadata": {},
   "outputs": [
    {
     "name": "stdout",
     "output_type": "stream",
     "text": [
      "[-8, 18, 1, -2, 17, 11, 1, 0, -5, -8]\n",
      "True\n",
      "[17, -5, -19, 2, -4, -5, 13, 20, 8, -4]\n",
      "False\n",
      "[9, 13, 6, 14, -15, -20, 0, -14, 8, -18]\n",
      "False\n",
      "[3, 10, 8, -17, -4, -10, 14, 17, -10, 0]\n",
      "True\n",
      "[15, -16, -14, -11, -5, -9, 13, 11, -20, 1]\n",
      "False\n"
     ]
    }
   ],
   "source": [
    "# Tapez vos tests ici\n",
    "for i in range(5):\n",
    "    lst = getRandomList(taille=10,mn=-20,mx=20)\n",
    "    print(lst)\n",
    "    print(contient(lst, i))"
   ]
  },
  {
   "cell_type": "markdown",
   "metadata": {
    "deletable": false,
    "editable": false
   },
   "source": [
    "Pour tester votre code de façon plus _intensive_, lancez le code suivant. Si tout se passe bien, il devrait afficher : \n",
    "> `Tout est Ok.`\n",
    "\n",
    "En cas de problème, il affichera un message ressemblant à cela : \n",
    "```---------------------------------------------------------------------------\n",
    " AssertionError                            Traceback (most recent call last)\n",
    " <ipython-input-27-51b7941c9fb5> in <module>()\n",
    "      4     for j in range(100):\n",
    "      5         v = randint(-100,100)\n",
    "----> 6         assert contient(lst=lst, elmt=v)==(v in lst), f\"{lst} contient {v} devrait retourner {v in lst}...?\"\n",
    "      7 print(\"Tout est Ok.\")\n",
    "\n",
    "AssertionError: [-34] contient -34 devrait retourner True...? ```\n"
   ]
  },
  {
   "cell_type": "code",
   "execution_count": 194,
   "metadata": {},
   "outputs": [
    {
     "name": "stdout",
     "output_type": "stream",
     "text": [
      "Tout est Ok.\n"
     ]
    }
   ],
   "source": [
    "# Test de la méthode contient\n",
    "for i in range(1000):\n",
    "    lst = getRandomList(randint(0,10), -100, 100)\n",
    "    for j in range(100):\n",
    "        v = randint(-100,100)\n",
    "        assert contient(lst=lst, elmt=v)==(v in lst), f\"{lst} contient {v} devrait retourner {v in lst}...?\"\n",
    "print(\"Tout est Ok.\")\n"
   ]
  },
  {
   "cell_type": "markdown",
   "metadata": {
    "deletable": false,
    "editable": false
   },
   "source": [
    "### 1.2.2 Déterminer la position de la première occurrence d'un élément dans une liste"
   ]
  },
  {
   "cell_type": "markdown",
   "metadata": {
    "deletable": false,
    "editable": false
   },
   "source": [
    "La méthode **`contient`** nous permet de savoir si un objet est contenu ou non dans la liste. Mais on ne connaît pas sa position dans la liste.\n",
    "\n",
    "&Eacute;crire une méthode **`firstIndexOf`** qui reçoit en paramètre une liste `lst` et un entier `elmt` et qui recherche la première position de cet entier dans la liste. La méthode retourne alors cette position. Si l'entier `elmt` n'est pas contenu dans la liste, la méthode retourne `-1`."
   ]
  },
  {
   "cell_type": "code",
   "execution_count": 195,
   "metadata": {},
   "outputs": [],
   "source": [
    "# Tapez votre code ici\n",
    "def firstIndexOf(lst, elmt) :\n",
    "    if contient(lst, elmt) :\n",
    "        for i in range(len(lst)) : \n",
    "            if elmt == lst[i] :\n",
    "                return i\n",
    "    else : \n",
    "        return -1"
   ]
  },
  {
   "cell_type": "markdown",
   "metadata": {
    "deletable": false,
    "editable": false
   },
   "source": [
    "Testez succinctement votre méthode ci-dessous :"
   ]
  },
  {
   "cell_type": "code",
   "execution_count": 196,
   "metadata": {
    "deletable": false
   },
   "outputs": [
    {
     "name": "stdout",
     "output_type": "stream",
     "text": [
      "[1, -7, -8, 16, 19, 20, 4, -6, 13, 10]\n",
      "-1\n",
      "[13, -20, -15, 13, 12, 19, -14, 3, -11, 12]\n",
      "-1\n",
      "[0, -2, 3, -2, 19, -2, 16, 1, 9, 14]\n",
      "-1\n",
      "[12, -7, -9, 19, 5, -13, -13, 5, 18, -3]\n",
      "-1\n",
      "[2, 16, 16, 10, 5, 19, 5, 10, -1, 17]\n",
      "-1\n"
     ]
    }
   ],
   "source": [
    "# tester ici la méthode firstIndexOf\n",
    "for i in range(5):\n",
    "    lst = getRandomList(taille=10,mn=-20,mx=20)\n",
    "    print(lst)\n",
    "    print(firstIndexOf(lst, i))"
   ]
  },
  {
   "cell_type": "markdown",
   "metadata": {
    "deletable": false,
    "editable": false
   },
   "source": [
    "Utilisez le code ci-dessous pour tester de façon plus _intensive_ votre méthode. Ici encore, si le code est correct, l'exécution devrait afficher : `Tout est OK`.\n",
    "\n",
    "Dans le cas contraire, vous devriez obtenir un message du style :\n",
    "```\n",
    "---------------------------------------------------------------------------\n",
    "AssertionError                            Traceback (most recent call last)\n",
    "<ipython-input-11-c22a726d44a3> in <module>()\n",
    "      4     for j in range(100):\n",
    "      5         v = randint(-100,100)\n",
    "----> 6         assert firstIndexOf(lst=lst, elmt=v)==(lst.index(v) if v in lst else -1), f\"Première position de {v} dans {lst} devrait retourner {(lst.index(v) if v in lst else -1)}...?\"\n",
    "      7 print(\"Tout est Ok.\")\n",
    "\n",
    "AssertionError: Première position de -67 dans [-67, 56, 92] devrait retourner 0 au lieu de 1...?\n",
    "```"
   ]
  },
  {
   "cell_type": "code",
   "execution_count": 197,
   "metadata": {},
   "outputs": [
    {
     "name": "stdout",
     "output_type": "stream",
     "text": [
      "Tout est Ok.\n"
     ]
    }
   ],
   "source": [
    "# code pour tester la méthode firstIndexOf\n",
    "for i in range(1000):\n",
    "    lst = getRandomList(randint(0,10), -100, 100)\n",
    "    for j in range(100):\n",
    "        v = randint(-100,100)\n",
    "        n1 = firstIndexOf(lst=lst,elmt=v)\n",
    "        n2 = lst.index(v) if v in lst else -1\n",
    "        assert n1==n2, f\"Première position de {v} dans {lst} devrait retourner {n2} au lieu de {n1}...?\"\n",
    "print(\"Tout est Ok.\")\n"
   ]
  },
  {
   "cell_type": "markdown",
   "metadata": {
    "deletable": false,
    "editable": false
   },
   "source": [
    "### 1.2.3 Déterminer la position de la dernière occurrence d'un élément dans une liste"
   ]
  },
  {
   "cell_type": "markdown",
   "metadata": {
    "deletable": false,
    "editable": false
   },
   "source": [
    "&Eacute;crire une méthode **`lastIndexOf`** qui reçoit en paramètre une liste `lst` et un entier `elmt` et qui retourne la dernière position de l'entier dans la liste. Si l'entier ne se trouve pas dans la liste, la méthode retourne `-1`."
   ]
  },
  {
   "cell_type": "code",
   "execution_count": 198,
   "metadata": {},
   "outputs": [],
   "source": [
    "# Tapez votre code ici\n",
    "def lastIndexOf(lst, elmt) :\n",
    "    if contient(lst, elmt) : \n",
    "        for i in range(len(lst)-1, -1, -1) : \n",
    "            if elmt == lst[i] :\n",
    "                return i\n",
    "    else : \n",
    "        return -1"
   ]
  },
  {
   "cell_type": "markdown",
   "metadata": {
    "deletable": false,
    "editable": false
   },
   "source": [
    "Testez votre code ci-dessous : "
   ]
  },
  {
   "cell_type": "code",
   "execution_count": 199,
   "metadata": {},
   "outputs": [
    {
     "name": "stdout",
     "output_type": "stream",
     "text": [
      "4\n"
     ]
    }
   ],
   "source": [
    "# Tapez votre code pour tester la méthode lastIndexOf\n",
    "print(lastIndexOf([1, 2, 3, 3, 3], 3))"
   ]
  },
  {
   "cell_type": "markdown",
   "metadata": {
    "deletable": false,
    "editable": false
   },
   "source": [
    "Utilisez le code ci-dessous pour tester de façon plus _intensive_ votre code.\n",
    "\n",
    "Ici encore, si le code est correct, l'exécution devrait afficher : `Tout est OK`.\n",
    "\n",
    "Dans le cas contraire, vous devriez obtenir un message du style :\n",
    "```\n",
    "---------------------------------------------------------------------------\n",
    "AssertionError                            Traceback (most recent call last)\n",
    "<ipython-input-26-14da2f998120> in <module>()\n",
    "      8         n2 = len(lst) - 1 - lst.index(v) if v in lst else -1\n",
    "      9         lst.reverse()\n",
    "---> 10         assert n1==n2, f\"Dernière position de {v} dans {lst} devrait retourner {n2} au lieu de {n1}...?\"\n",
    "     11 print(\"Tout est Ok.\")\n",
    "\n",
    "AssertionError: Dernière position de -86 dans [66, -62, -37, 76, 85, -86, -38, -86, 77, -66] devrait retourner 7 au lieu de 8...?\n",
    "```"
   ]
  },
  {
   "cell_type": "code",
   "execution_count": 200,
   "metadata": {},
   "outputs": [
    {
     "name": "stdout",
     "output_type": "stream",
     "text": [
      "Tout est Ok.\n"
     ]
    }
   ],
   "source": [
    "# code pour tester la méthode firstIndexOf\n",
    "for i in range(1000):\n",
    "    lst = getRandomList(randint(0,10), -100, 100)\n",
    "    for j in range(100):\n",
    "        v = randint(-100,100)\n",
    "        n1 = lastIndexOf(lst=lst, elmt=v)\n",
    "        lst.reverse()\n",
    "        n2 = len(lst) - 1 - lst.index(v) if v in lst else -1\n",
    "        lst.reverse()\n",
    "        assert n1==n2, f\"Dernière position de {v} dans {lst} devrait retourner {n2} au lieu de {n1}...?\"\n",
    "print(\"Tout est Ok.\")\n"
   ]
  },
  {
   "cell_type": "markdown",
   "metadata": {
    "deletable": false,
    "editable": false
   },
   "source": [
    "# 2. Compléments"
   ]
  },
  {
   "cell_type": "markdown",
   "metadata": {
    "deletable": false,
    "editable": false
   },
   "source": [
    "## 2.1 Recherche de la n<sup>ième</sup> position d'un élément dans une liste"
   ]
  },
  {
   "cell_type": "markdown",
   "metadata": {
    "deletable": false,
    "editable": false
   },
   "source": [
    "&Eacute;crire une méthode **`nthIndexOf`** qui reçoit en paramètre une liste `lst` et deux entiers `n` et `elmt` et qui retourne la `n`<sup>ième</sup> position de l'élément `elmt` (en partant du début) dans la liste. Si l'élément n'apparaît pas `n` fois dans la liste, la méthode retourne `-1`. "
   ]
  },
  {
   "cell_type": "code",
   "execution_count": 201,
   "metadata": {},
   "outputs": [],
   "source": [
    "# tapez votre code ici\n",
    "def nthIndexOf(lst, n , elmt) :\n",
    "    if n == 0 : \n",
    "        return -1\n",
    "    if compter(lst, elmt) >= n :\n",
    "        position = 1\n",
    "        for i in range(len(lst)) : \n",
    "            if lst[i] == elmt and position == n:\n",
    "                return i\n",
    "            if  lst[i] == elmt : \n",
    "                position += 1\n",
    "    else : \n",
    "        return -1\n",
    "    "
   ]
  },
  {
   "cell_type": "markdown",
   "metadata": {
    "deletable": false,
    "editable": false
   },
   "source": [
    "Utilisez la ligne ci-dessous pour tester votre code"
   ]
  },
  {
   "cell_type": "code",
   "execution_count": 202,
   "metadata": {},
   "outputs": [
    {
     "name": "stdout",
     "output_type": "stream",
     "text": [
      "3\n"
     ]
    }
   ],
   "source": [
    "# code pour tester la méthode nthIndexOf\n",
    "print(nthIndexOf([1, 2, 3, 3, 3], 2, 3))"
   ]
  },
  {
   "cell_type": "markdown",
   "metadata": {
    "deletable": false,
    "editable": false
   },
   "source": [
    "Pour tester votre méthode de façon plus _intensive_, exécutez le code ci-dessous.\n",
    "\n",
    "Si le code est correct, l'exécution devrait afficher : `Tout est OK`.\n",
    "\n",
    "Dans le cas contraire, vous devriez obtenir un message du style :\n",
    "```\n",
    "---------------------------------------------------------------------------\n",
    "AssertionError                            Traceback (most recent call last)\n",
    "<ipython-input-27-207bbdf32929> in <module>()\n",
    "     12             for i in range(n):\n",
    "     13                 n2 = lst.index(v,n2+1)\n",
    "---> 14         assert n1==n2, f\"{n}ième position de {v} dans {lst} devrait retourner {n2} au lieu de {n1}...?\"\n",
    "     15 print(\"Tout est Ok.\")\n",
    "\n",
    "AssertionError: 4ième position de -2 dans [2, -2, -1, 2, -1, -1, -2, -2, 2] devrait retourner -1 au lieu de 7...?\n",
    "```"
   ]
  },
  {
   "cell_type": "code",
   "execution_count": 203,
   "metadata": {},
   "outputs": [
    {
     "name": "stdout",
     "output_type": "stream",
     "text": [
      "Tout est Ok.\n"
     ]
    }
   ],
   "source": [
    "# code pour tester la méthode nthIndexOf\n",
    "for i in range(1000):\n",
    "    lst = getRandomList(randint(0,10), -2, 2)\n",
    "    for j in range(100):\n",
    "        v = randint(-2,2)\n",
    "        n = randint(0,len(lst))\n",
    "        n1 = nthIndexOf(lst=lst,n=n,elmt=v)\n",
    "        n2=-1\n",
    "        if lst.count(v)>=n:\n",
    "            for i in range(n):\n",
    "                n2 = lst.index(v,n2+1)\n",
    "        assert n1==n2, f\"{n}ième position de {v} dans {lst} devrait retourner {n2} au lieu de {n1}...?\"\n",
    "print(\"Tout est Ok.\")\n"
   ]
  },
  {
   "cell_type": "markdown",
   "metadata": {
    "deletable": false,
    "editable": false
   },
   "source": [
    "## 2.2 Générer une liste sans doublon"
   ]
  },
  {
   "cell_type": "markdown",
   "metadata": {
    "deletable": false,
    "editable": false
   },
   "source": [
    "&Eacute;crire une méthode **`creerListeSansDoublon`** qui reçoit en paramètre une liste d'entiers `lst` et qui retourne une copie de cette liste dans laquelle les doublons sont supprimés. Cette méthode conserve l'ordre des éléments (en partant de gauche à droite).\n",
    "\n",
    "Par exemple, `creerListeSansDoublon([2, 4, 2, 5, 6, 2, 7, 4, 5, 7, 9 ])` doit retourner la liste `[2, 4, 5, 6, 7, 9]`.\n",
    "\n",
    "Vous utiliserez les méthodes que vous avez précédemment développées."
   ]
  },
  {
   "cell_type": "code",
   "execution_count": 204,
   "metadata": {},
   "outputs": [],
   "source": [
    "# Tapez votre code ici\n",
    "def creerListeSansDoublon(lst) :\n",
    "    liste = []\n",
    "    for i in lst :\n",
    "        if contient(liste, i) == False:\n",
    "            liste.append(i)\n",
    "    return liste"
   ]
  },
  {
   "cell_type": "markdown",
   "metadata": {
    "deletable": false,
    "editable": false
   },
   "source": [
    "Utilisez la ligne ci-dessous pour tester votre code : "
   ]
  },
  {
   "cell_type": "code",
   "execution_count": 205,
   "metadata": {},
   "outputs": [
    {
     "name": "stdout",
     "output_type": "stream",
     "text": [
      "[2, 4, 5, 6, 7, 9]\n"
     ]
    }
   ],
   "source": [
    "# Tapez vos tests ici\n",
    "print(creerListeSansDoublon(lst=[2, 4, 2, 5, 6, 2, 7, 4, 5, 7, 9])) # devrait afficher [2,4,5,6,7,9]"
   ]
  },
  {
   "cell_type": "markdown",
   "metadata": {
    "deletable": false,
    "editable": false
   },
   "source": [
    "Pour tester votre code de façon plus _intensive_, executez le code ci-dessous.\n",
    "\n",
    "Si tout se passe bien, le code affiche :\n",
    "> `Tout est OK.`\n",
    "\n",
    "Sinon, il affiche un message du type : \n",
    "```\n",
    "---------------------------------------------------------------------------\n",
    "AssertionError                            Traceback (most recent call last)\n",
    "<ipython-input-40-6d4d93d35dfe> in <module>()\n",
    "      4     lst1 = creerListeSansDoublon(lst=lst)\n",
    "      5     lst2 = [lst[i] for i in range(len(lst)) if i==lst.index(lst[i])]\n",
    "----> 6     assert lst1==lst2, f\"{lst} sans doublon devrait donner {lst2} au lieu de {lst1}\"\n",
    "      7 print(\"Tout est Ok.\")\n",
    "\n",
    "AssertionError: [-1, -1, 1, 2, 1, 2, 0, 1, 1] sans doublon devrait donner [-1, 1, 2, 0] au lieu de [-1, 1, 0]\n",
    "```"
   ]
  },
  {
   "cell_type": "code",
   "execution_count": 206,
   "metadata": {},
   "outputs": [
    {
     "name": "stdout",
     "output_type": "stream",
     "text": [
      "Tout est Ok.\n"
     ]
    }
   ],
   "source": [
    "# code pour tester la méthode creerListeSansDoublon\n",
    "for i in range(10_000):\n",
    "    lst = getRandomList(randint(0,10), -2, 2)\n",
    "    lst1 = creerListeSansDoublon(lst=lst)\n",
    "    lst2 = [lst[i] for i in range(len(lst)) if i==lst.index(lst[i])]\n",
    "    assert lst1==lst2, f\"{lst} sans doublon devrait donner {lst2} au lieu de {lst1}\"\n",
    "print(\"Tout est Ok.\")"
   ]
  },
  {
   "cell_type": "markdown",
   "metadata": {
    "deletable": false,
    "editable": false
   },
   "source": [
    "## 2.3 Supprimer les doublons d'une liste"
   ]
  },
  {
   "cell_type": "markdown",
   "metadata": {
    "deletable": false,
    "editable": false
   },
   "source": [
    "L'exercice suivant ressemble au précédent excepté le fait qu'ici, on travaille directement sur la liste au lieu d'en créer une nouvelle.\n",
    "\n",
    "&Eacute;crire la méthode **`supprimerDoublons`** qui reçoit en paramètre une liste `lst` et qui ne retourne rien. Cette méthode supprime les doublons de la liste.\n",
    "\n",
    "Par exemple, le code suivant : \n",
    "```python\n",
    "liste = [2, 4, 2, 5, 6, 2, 7, 4, 5, 7, 9]\n",
    "supprimerDoublons(lst=liste)\n",
    "print(liste)\n",
    "```\n",
    "\n",
    "devrait afficher : \n",
    ">   `[2,4,5,6,7,9]`\n",
    "\n",
    "__Rappel__ : \n",
    ">Supprimer un élément de la liste `lst` en position `i` se fait à l'aide de l'instruction `del lst[i]`. \n",
    "\n",
    "Vous utiliserez les méthodes que vous avez écrites."
   ]
  },
  {
   "cell_type": "code",
   "execution_count": 207,
   "metadata": {},
   "outputs": [],
   "source": [
    "# Tapez votre code ici.\n",
    "from collections import OrderedDict\n",
    "\n",
    "def supprimerDoublons(lst) :\n",
    "    print(list(OrderedDict.fromkeys(lst)))"
   ]
  },
  {
   "cell_type": "markdown",
   "metadata": {
    "deletable": false,
    "editable": false
   },
   "source": [
    "Testez votre code sur la ligne ci-dessous."
   ]
  },
  {
   "cell_type": "code",
   "execution_count": 208,
   "metadata": {},
   "outputs": [
    {
     "name": "stdout",
     "output_type": "stream",
     "text": [
      "[2, 4, 5, 6, 7, 9]\n",
      "[2, 4, 2, 5, 6, 2, 7, 4, 5, 7, 9]\n"
     ]
    }
   ],
   "source": [
    "# tapez vos tests ici, par exemple : \n",
    "liste = [2, 4, 2, 5, 6, 2, 7, 4, 5, 7, 9]\n",
    "supprimerDoublons(lst=liste)\n",
    "print(liste)  # devrait afficher [2,4,5,6,7,9]"
   ]
  },
  {
   "cell_type": "markdown",
   "metadata": {
    "deletable": false,
    "editable": false
   },
   "source": [
    "En vous inspirant du code de test _approfondi_ précédent, réalisez une boucle dans laquelle vous créerez une liste aléatoire, supprimerez les doublons et comparerez le résultat avec celui de la méthode `créerListeSansDoublon` que vous avez écrite précédemment.\n",
    "\n",
    "__Rappel__ : \n",
    "> Pour copier une liste `lst`, on peut utiliser la méthode `lst.copy()` qui retourne une copie de la liste."
   ]
  },
  {
   "cell_type": "code",
   "execution_count": null,
   "metadata": {},
   "outputs": [],
   "source": []
  },
  {
   "cell_type": "markdown",
   "metadata": {
    "deletable": false,
    "editable": false
   },
   "source": [
    "## 2.4 &Eacute;numération du contenu d'une liste"
   ]
  },
  {
   "cell_type": "markdown",
   "metadata": {
    "deletable": false,
    "editable": false
   },
   "source": [
    "En utilisant les méthodes précédentes, écrire une méthode **`enumerer`** qui reçoit en paramètre une liste `lst` et qui affiche son contenu en énumérant, pour chaque élément non redondant de la liste, les positions où il se trouve.\n",
    "\n",
    "Par exemple, `enumerer(lst=[2, 4, 2, 5, 6, 2, 7, 4, 5, 7, 9])` affiche :\n",
    "```\n",
    "Position(s) du 2 : [0, 2, 5]\n",
    "Position(s) du 4 : [1, 7]\n",
    "Position(s) du 5 : [3, 8]\n",
    "Position(s) du 6 : [4]\n",
    "Position(s) du 7 : [6, 9]\n",
    "Position(s) du 9 : [10]\n",
    "```"
   ]
  },
  {
   "cell_type": "code",
   "execution_count": 154,
   "metadata": {},
   "outputs": [],
   "source": [
    "# Taper votre code ici\n",
    "def enumerer(lst) :\n",
    "    liste = creerListeSansDoublon(lst)\n",
    "    for i in liste :\n",
    "        position = []\n",
    "        for j in range(len(lst)) :\n",
    "            position.append(nthIndexOf(lst, j , i))\n",
    "        while -1 in position :\n",
    "            position.remove(-1)\n",
    "        print(\"Position(s) du \" + str(i) + \": \" + str(position))"
   ]
  },
  {
   "cell_type": "markdown",
   "metadata": {
    "deletable": false,
    "editable": false
   },
   "source": [
    "Utilisez la ligne ci-dessous pour tester votre code"
   ]
  },
  {
   "cell_type": "code",
   "execution_count": 155,
   "metadata": {},
   "outputs": [
    {
     "name": "stdout",
     "output_type": "stream",
     "text": [
      "Position(s) du 2: [0, 2, 5]\n",
      "Position(s) du 4: [1, 7]\n",
      "Position(s) du 5: [3, 8]\n",
      "Position(s) du 6: [4]\n",
      "Position(s) du 7: [6, 9]\n",
      "Position(s) du 9: [10]\n"
     ]
    }
   ],
   "source": [
    "# Tapez les codes pour tester la méthode enumerer\n",
    "enumerer(lst=[2, 4, 2, 5, 6, 2, 7, 4, 5, 7, 9])"
   ]
  },
  {
   "cell_type": "code",
   "execution_count": null,
   "metadata": {},
   "outputs": [],
   "source": []
  }
 ],
 "metadata": {
  "kernelspec": {
   "display_name": "Python 3 (ipykernel)",
   "language": "python",
   "name": "python3"
  },
  "language_info": {
   "codemirror_mode": {
    "name": "ipython",
    "version": 3
   },
   "file_extension": ".py",
   "mimetype": "text/x-python",
   "name": "python",
   "nbconvert_exporter": "python",
   "pygments_lexer": "ipython3",
   "version": "3.10.6"
  },
  "metadata": {
   "deletable": false,
   "editable": false
  }
 },
 "nbformat": 4,
 "nbformat_minor": 2
}
